{
 "cells": [
  {
   "cell_type": "markdown",
   "id": "e1a5d029-f2c6-4d18-98b3-31a82bc603db",
   "metadata": {},
   "source": [
    "# Synopsis"
   ]
  },
  {
   "cell_type": "markdown",
   "id": "5c2df35f-e23e-4ab0-920e-cae07b388d1e",
   "metadata": {},
   "source": [
    "In this project, we want to use a pretrained convolutional neural network to diagnose skin conditions. Furthermore, we want to use domain knowledge such as the characteristics of the disease in the form of a tabular medical database to help the performance of our classifier."
   ]
  },
  {
   "cell_type": "markdown",
   "id": "e6d38406-e474-4dc8-93a4-71f5073a639e",
   "metadata": {
    "tags": []
   },
   "source": [
    "## Goals\n",
    "\n",
    "### Data exploration\n",
    "\n",
    "First, we need to have a look at the data. Is the dataset balanced or not? What are the sizes of the images, and what transformations would we need to apply in order to generate a satisfying dataset. Since this dataset is *very* sparse for a deep learning project, we will have to use as much data as possible.\n",
    "\n",
    "### Splitting\n",
    "\n",
    "To find the optimal hyperparameters and evaluate the performance of our network, we will have to split our dataset in a training set, a development set and a test set. We will need to find the splits that makes sense.\n",
    "\n",
    "### Finding a pretrained network\n",
    "\n",
    "Ideally, we would find a pretrained network that is trained on similar medical images. This would mean that we would not need as much data to be able to make a somewhat good network in terms of performance.\n",
    "\n",
    "### Data augmentation\n",
    "\n",
    "Since we don't have that much data, it would be nice for us to do some data augmentation. Here, we will need to find some packages that support data augmentation for images.\n",
    "\n",
    "### Hyperparameter tuning\n",
    "\n",
    "Using our validation set, we would want to find the optimal hyperparameters for our network. \n",
    "\n",
    "### Assessing performance on test set\n",
    "\n",
    "Finally, we want to assess the performance on the test set. \n",
    "\n",
    "### Tabular data\n",
    "\n",
    "We want to investigate the use of tabular data to potentially construct a better classifier. "
   ]
  }
 ],
 "metadata": {
  "kernelspec": {
   "display_name": "Python 3 (ipykernel)",
   "language": "python",
   "name": "python3"
  },
  "language_info": {
   "codemirror_mode": {
    "name": "ipython",
    "version": 3
   },
   "file_extension": ".py",
   "mimetype": "text/x-python",
   "name": "python",
   "nbconvert_exporter": "python",
   "pygments_lexer": "ipython3",
   "version": "3.6.13"
  }
 },
 "nbformat": 4,
 "nbformat_minor": 5
}
